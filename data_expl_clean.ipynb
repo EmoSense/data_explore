{
 "cells": [
  {
   "cell_type": "markdown",
   "metadata": {},
   "source": [
    "# Data Exploration"
   ]
  },
  {
   "cell_type": "markdown",
   "metadata": {},
   "source": [
    "## Happiness index\n",
    "* https://worldhappiness.report/data/\n",
    "\n",
    "* Two files, one Figure 2.1, one Tabale 2.1\n",
    "\n",
    "\n",
    "* Fig 2.1 Columns:\n",
    "https://happiness-report.s3.amazonaws.com/2023/WHR+23_Statistical_Appendix.pdf\n",
    " * Country: The name of the country.\n",
    " * Happiness Rank: The country's ranking based on its happiness score.\n",
    " * Happiness Score: A measure of happiness on a scale of 0 to 10, with 10 being the happiest.\n",
    " * Whisker High: Lower confidence interval for the happiness score.\n",
    " * Whisker Low: Upper confidence interval for the happiness score.\n",
    " * Economy (GDP per Capita): The influence of GDP per capita on the happiness score.\n",
    " * Family: The influence of family on the happiness score.\n",
    " * Health (Life Expectancy): The influence of life expectancy on the happiness score.\n",
    " * Freedom: The influence of freedom on the happiness score.\n",
    " * Trust (Government Corruption): The influence of perceived government corruption on the happiness score.\n",
    " * Generosity: The influence of generosity on the happiness score.\n",
    " * Dystopia Residual: The influence of other unmeasured factors on the happiness score.\n",
    " * https://www.kaggle.com/code/soylevbeytullah/world-happiness-explanatory-data-analysis\n",
    "\n",
    "* Table 2.1 Columns:\n",
    " \n",
    "\n",
    "## vs\n",
    "\n",
    "## World Educational Data\n",
    "*https://www.kaggle.com/datasets/nelgiriyewithana/world-educational-data\n",
    "\n",
    "* Columns:\n",
    " * countries\n",
    " * long&lat\n",
    " * out of school rate (OOSR) - various ages\n",
    " * reading proficeiency (various)\n",
    " * literacy rate (various)\n",
    " * birth rate\n",
    " * 3rd level enrollment\n",
    " * unemployemnt rate\n",
    "\n",
    "--------------\n",
    "\n",
    "* correlation between educqation and happiness\n",
    "* gender disparity in education affect on happiness\n",
    "* Develop a predictive model to forecast happiness scores based on gender disparities in education indicators, such as enrollment rates and literacy rates between males and females.\n",
    "\n",
    "* give the model a 'person'\n",
    "\n"
   ]
  },
  {
   "cell_type": "code",
   "execution_count": null,
   "metadata": {
    "vscode": {
     "languageId": "shellscript"
    },
    "is_executing": true
   },
   "outputs": [],
   "source": [
    "# python 3.12.0"
   ]
  },
  {
   "cell_type": "code",
   "execution_count": null,
   "metadata": {
    "vscode": {
     "languageId": "shellscript"
    },
    "is_executing": true
   },
   "outputs": [],
   "source": [
    "import numpy as np\n",
    "import pandas as pd\n",
    "\n",
    "import os\n",
    "for dirname, _, filenames in os.walk('data'):\n",
    "    for filename in filenames:\n",
    "        print(os.path.join(dirname, filename))"
   ]
  },
  {
   "cell_type": "code",
   "execution_count": null,
   "metadata": {
    "vscode": {
     "languageId": "shellscript"
    }
   },
   "outputs": [],
   "source": [
    "happiness_report = pd.read_excel('data/DataForFigure2.1WHR2023.xls')"
   ]
  },
  {
   "cell_type": "code",
   "execution_count": null,
   "metadata": {
    "vscode": {
     "languageId": "shellscript"
    }
   },
   "outputs": [],
   "source": [
    "happiness_report.head() # rename columns for better understanding"
   ]
  },
  {
   "cell_type": "code",
   "execution_count": null,
   "metadata": {
    "vscode": {
     "languageId": "shellscript"
    }
   },
   "outputs": [],
   "source": [
    "happiness_report_table_2 = pd.read_excel('data/DataForTable2.1WHR2023.xls')"
   ]
  },
  {
   "cell_type": "code",
   "execution_count": null,
   "metadata": {
    "vscode": {
     "languageId": "shellscript"
    }
   },
   "outputs": [],
   "source": [
    "# find country with name\n",
    "ireland_info = happiness_report_table_2[happiness_report_table_2['Country name'] == 'Ireland']"
   ]
  },
  {
   "cell_type": "code",
   "execution_count": null,
   "metadata": {
    "vscode": {
     "languageId": "shellscript"
    },
    "is_executing": true
   },
   "outputs": [],
   "source": [
    "ireland_info\n"
   ]
  },
  {
   "cell_type": "code",
   "execution_count": null,
   "metadata": {
    "vscode": {
     "languageId": "shellscript"
    }
   },
   "outputs": [],
   "source": [
    "edu_report = pd.read_excel('data/education_world.xls')\n"
   ]
  },
  {
   "cell_type": "code",
   "execution_count": null,
   "metadata": {
    "vscode": {
     "languageId": "shellscript"
    }
   },
   "outputs": [],
   "source": [
    "edu_report.head()\n"
   ]
  },
  {
   "cell_type": "code",
   "execution_count": null,
   "metadata": {
    "vscode": {
     "languageId": "shellscript"
    }
   },
   "outputs": [],
   "source": [
    "# find report on ireland\n",
    "ireland_edu_info = edu_report[edu_report['Countries and areas'] == 'Republic of Ireland']"
   ]
  },
  {
   "cell_type": "code",
   "execution_count": null,
   "metadata": {
    "vscode": {
     "languageId": "shellscript"
    }
   },
   "outputs": [],
   "source": [
    "ireland_edu_info.head()"
   ]
  },
  {
   "cell_type": "markdown",
   "metadata": {},
   "source": [
    "## Data Cleaning on Happiness\n",
    "\n",
    "### Missing Values\n",
    "* Handle appropriately"
   ]
  },
  {
   "cell_type": "code",
   "execution_count": null,
   "metadata": {
    "vscode": {
     "languageId": "shellscript"
    }
   },
   "outputs": [],
   "source": [
    "print(happiness_report.isnull().sum()) # null values in three columns"
   ]
  },
  {
   "cell_type": "code",
   "execution_count": null,
   "metadata": {
    "vscode": {
     "languageId": "shellscript"
    }
   },
   "outputs": [],
   "source": [
    "print(happiness_report_table_2.isnull().sum()) # multiple null values in majority of columns"
   ]
  },
  {
   "cell_type": "code",
   "execution_count": null,
   "metadata": {
    "vscode": {
     "languageId": "shellscript"
    }
   },
   "outputs": [],
   "source": [
    "# explore null values - fill with imputation (fillna() if appropriate)"
   ]
  },
  {
   "cell_type": "code",
   "execution_count": null,
   "metadata": {
    "vscode": {
     "languageId": "shellscript"
    }
   },
   "outputs": [],
   "source": [
    "#print(happiness_report[happiness_report['Explained by: Healthy life expectancy'].isnull()])\n",
    "print(happiness_report[happiness_report['Dystopia + residual'].isnull()])"
   ]
  },
  {
   "cell_type": "code",
   "execution_count": null,
   "metadata": {
    "vscode": {
     "languageId": "shellscript"
    }
   },
   "outputs": [],
   "source": [
    "palestine_info = happiness_report[happiness_report['Country name'] == 'State of Palestine']"
   ]
  },
  {
   "cell_type": "code",
   "execution_count": null,
   "metadata": {
    "vscode": {
     "languageId": "shellscript"
    }
   },
   "outputs": [],
   "source": [
    "palestine_info"
   ]
  },
  {
   "cell_type": "code",
   "execution_count": null,
   "metadata": {
    "vscode": {
     "languageId": "shellscript"
    }
   },
   "outputs": [],
   "source": [
    "hist_pal_info = happiness_report_table_2[happiness_report_table_2['Country name'] == 'State of Palestine']"
   ]
  },
  {
   "cell_type": "code",
   "execution_count": null,
   "metadata": {
    "vscode": {
     "languageId": "shellscript"
    }
   },
   "outputs": [],
   "source": [
    "hist_pal_info"
   ]
  },
  {
   "cell_type": "code",
   "execution_count": null,
   "metadata": {
    "vscode": {
     "languageId": "shellscript"
    }
   },
   "outputs": [],
   "source": [
    "palestine_info_imput"
   ]
  },
  {
   "cell_type": "code",
   "execution_count": null,
   "metadata": {
    "vscode": {
     "languageId": "shellscript"
    }
   },
   "outputs": [],
   "source": [
    "mean_log_gdp = hist_pal_info['Log GDP per capita'].mean()\n",
    "print(mean_log_gdp)"
   ]
  },
  {
   "cell_type": "code",
   "execution_count": null,
   "metadata": {
    "vscode": {
     "languageId": "shellscript"
    }
   },
   "outputs": [],
   "source": [
    "mean_life_exp = hist_pal_info['Healthy life expectancy at birth'].mean()\n",
    "print(mean_life_exp)"
   ]
  },
  {
   "cell_type": "code",
   "execution_count": null,
   "metadata": {
    "vscode": {
     "languageId": "shellscript"
    }
   },
   "outputs": [],
   "source": [
    "mean_generosity = hist_pal_info['Generosity'].mean()\n",
    "print(mean_generosity)"
   ]
  },
  {
   "cell_type": "code",
   "execution_count": null,
   "metadata": {
    "vscode": {
     "languageId": "shellscript"
    }
   },
   "outputs": [],
   "source": [
    "hist_pal_info['Log GDP per capita'].fillna(mean_log_gdp, inplace=True)\n"
   ]
  },
  {
   "cell_type": "code",
   "execution_count": null,
   "metadata": {
    "vscode": {
     "languageId": "shellscript"
    }
   },
   "outputs": [],
   "source": [
    "hist_pal_info['Healthy life expectancy at birth'].fillna(mean_life_exp, inplace=True) # need better method - too many nulls"
   ]
  },
  {
   "cell_type": "code",
   "execution_count": null,
   "metadata": {
    "vscode": {
     "languageId": "shellscript"
    }
   },
   "outputs": [],
   "source": [
    "hist_pal_info['Generosity'].fillna(mean_generosity, inplace=True)"
   ]
  },
  {
   "cell_type": "code",
   "execution_count": null,
   "metadata": {
    "vscode": {
     "languageId": "shellscript"
    }
   },
   "outputs": [],
   "source": [
    "hist_pal_info"
   ]
  },
  {
   "cell_type": "code",
   "execution_count": null,
   "metadata": {
    "vscode": {
     "languageId": "shellscript"
    }
   },
   "outputs": [],
   "source": [
    "# update original happiness report with imputed values..."
   ]
  },
  {
   "cell_type": "code",
   "execution_count": null,
   "metadata": {
    "vscode": {
     "languageId": "shellscript"
    }
   },
   "outputs": [],
   "source": [
    "print(happiness_report.isnull().sum())"
   ]
  },
  {
   "cell_type": "markdown",
   "metadata": {},
   "source": [
    "### Duplicates"
   ]
  },
  {
   "cell_type": "code",
   "execution_count": null,
   "metadata": {
    "vscode": {
     "languageId": "shellscript"
    }
   },
   "outputs": [],
   "source": [
    "print(happiness_report.duplicated().sum())"
   ]
  },
  {
   "cell_type": "code",
   "execution_count": null,
   "metadata": {
    "vscode": {
     "languageId": "shellscript"
    }
   },
   "outputs": [],
   "source": [
    "print(happiness_report_table_2.duplicated().sum())"
   ]
  },
  {
   "cell_type": "markdown",
   "metadata": {},
   "source": [
    "## Inconsistencies"
   ]
  },
  {
   "cell_type": "code",
   "execution_count": null,
   "metadata": {
    "vscode": {
     "languageId": "shellscript"
    }
   },
   "outputs": [],
   "source": [
    "print(happiness_report['Country name'].nunique())\n",
    "print(happiness_report['Country name'].shape)"
   ]
  },
  {
   "cell_type": "code",
   "execution_count": null,
   "metadata": {
    "vscode": {
     "languageId": "shellscript"
    }
   },
   "outputs": [],
   "source": [
    "print(happiness_report_table_2['Country name'].nunique())\n",
    "print(happiness_report_table_2['Country name'].shape)"
   ]
  },
  {
   "cell_type": "code",
   "execution_count": null,
   "metadata": {
    "vscode": {
     "languageId": "shellscript"
    }
   },
   "outputs": [],
   "source": [
    "print(happiness_report_table_2['Country name'])"
   ]
  },
  {
   "cell_type": "code",
   "execution_count": null,
   "metadata": {
    "vscode": {
     "languageId": "shellscript"
    }
   },
   "outputs": [],
   "source": [
    "happiness_report_table_2.head(15)"
   ]
  },
  {
   "cell_type": "markdown",
   "metadata": {},
   "source": [
    "## Data Cleaning on Education\n",
    "\n",
    "### Check for Missing Values\n",
    "* Handle appropriately\n",
    "\n",
    "\n",
    "\n",
    "* Remove coordinates, not relevant to study\n"
   ]
  },
  {
   "cell_type": "code",
   "execution_count": null,
   "metadata": {
    "vscode": {
     "languageId": "shellscript"
    }
   },
   "outputs": [],
   "source": [
    "print(edu_report.isnull().sum()) # no null columns"
   ]
  },
  {
   "cell_type": "markdown",
   "metadata": {},
   "source": [
    "### Duplicates"
   ]
  },
  {
   "cell_type": "code",
   "execution_count": null,
   "metadata": {
    "vscode": {
     "languageId": "shellscript"
    }
   },
   "outputs": [],
   "source": [
    "print(edu_report.duplicated().sum())"
   ]
  },
  {
   "cell_type": "markdown",
   "metadata": {},
   "source": [
    "### Inconsistencies"
   ]
  },
  {
   "cell_type": "code",
   "execution_count": null,
   "metadata": {
    "vscode": {
     "languageId": "shellscript"
    }
   },
   "outputs": [],
   "source": [
    "print(edu_report['Countries and areas'].nunique())\n",
    "print(edu_report['Countries and areas'].shape)"
   ]
  },
  {
   "cell_type": "code",
   "execution_count": null,
   "metadata": {
    "vscode": {
     "languageId": "shellscript"
    }
   },
   "outputs": [],
   "source": [
    "edu_report.head()"
   ]
  },
  {
   "cell_type": "code",
   "execution_count": null,
   "metadata": {
    "vscode": {
     "languageId": "shellscript"
    }
   },
   "outputs": [],
   "source": [
    "edu_report.tail()"
   ]
  },
  {
   "cell_type": "code",
   "execution_count": null,
   "metadata": {
    "vscode": {
     "languageId": "shellscript"
    }
   },
   "outputs": [],
   "source": [
    "# find country in edu report\n",
    "print(edu_report[edu_report['Countries and areas'] == 'Palestinian National Authority'])"
   ]
  }
 ],
 "metadata": {
  "kernelspec": {
   "display_name": "Python 3 (ipykernel)",
   "language": "python",
   "name": "python3"
  },
  "language_info": {
   "codemirror_mode": {
    "name": "ipython",
    "version": 3
   },
   "file_extension": ".py",
   "mimetype": "text/x-python",
   "name": "python",
   "nbconvert_exporter": "python",
   "pygments_lexer": "ipython3",
   "version": "3.12.0"
  }
 },
 "nbformat": 4,
 "nbformat_minor": 2
}
