{
 "cells": [
  {
   "cell_type": "code",
   "execution_count": 1,
   "id": "a43fd3d2",
   "metadata": {},
   "outputs": [
    {
     "name": "stdout",
     "output_type": "stream",
     "text": [
      " Volume in drive C has no label.\n",
      " Volume Serial Number is 249F-21DC\n",
      "\n",
      " Directory of C:\\Users\\Deirdre\\Desktop\\Fourth Year\\Semester 2\\1. AI\\4. Data Exploraton\\project\\data\n",
      "\n",
      "20/03/2024  12:38    <DIR>          .\n",
      "20/03/2024  12:08    <DIR>          ..\n",
      "20/03/2024  12:36    <DIR>          .ipynb_checkpoints\n",
      "20/03/2024  12:19            77,824 DataForFigure2.1WHR2023.xls\n",
      "20/03/2024  12:19           486,912 DataForTable2.1WHR2023.xls\n",
      "20/03/2024  12:38               589 Untitled.ipynb\n",
      "               3 File(s)        565,325 bytes\n",
      "               3 Dir(s)  55,442,391,040 bytes free\n"
     ]
    }
   ],
   "source": []
  }
 ],
 "metadata": {
  "kernelspec": {
   "display_name": "Python 3 (ipykernel)",
   "language": "python",
   "name": "python3"
  },
  "language_info": {
   "codemirror_mode": {
    "name": "ipython",
    "version": 3
   },
   "file_extension": ".py",
   "mimetype": "text/x-python",
   "name": "python",
   "nbconvert_exporter": "python",
   "pygments_lexer": "ipython3",
   "version": "3.9.12"
  }
 },
 "nbformat": 4,
 "nbformat_minor": 5
}
